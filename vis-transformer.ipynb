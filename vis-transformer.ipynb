{
 "cells": [
  {
   "cell_type": "markdown",
   "metadata": {},
   "source": [
    "- imports"
   ]
  },
  {
   "cell_type": "code",
   "execution_count": 1,
   "metadata": {},
   "outputs": [],
   "source": [
    "import torch\n",
    "from torch import nn"
   ]
  },
  {
   "cell_type": "markdown",
   "metadata": {},
   "source": [
    "- hyperparameters"
   ]
  },
  {
   "cell_type": "code",
   "execution_count": 2,
   "metadata": {},
   "outputs": [
    {
     "name": "stdout",
     "output_type": "stream",
     "text": [
      "Using device: cuda\n"
     ]
    }
   ],
   "source": [
    "# IMAGES\n",
    "NUM_CLASSES = 10\n",
    "PATCH_SIZE = 4\n",
    "IMAGE_SIZE = 28\n",
    "IN_CHANNELS = 1\n",
    "\n",
    "# MODEL \n",
    "NUM_HEADS = 8\n",
    "DROPOUT = 0.001\n",
    "HIDDEN_DIM = 768\n",
    "ACTIVATION = \"gelu\"\n",
    "NUM_ENCODER_LAYERS = 4\n",
    "EMBEDDING_DIM = (PATCH_SIZE ** 2) * IN_CHANNELS   # 16\n",
    "NUM_PATCHES = (IMAGE_SIZE // PATCH_SIZE) ** 2     # 49\n",
    "device = \"cuda\" if torch.cuda.is_available() else \"cpu\"\n",
    "print(f\"Using device: {device}\")"
   ]
  },
  {
   "cell_type": "markdown",
   "metadata": {},
   "source": [
    "- patches & position embeddings"
   ]
  },
  {
   "cell_type": "code",
   "execution_count": 3,
   "metadata": {},
   "outputs": [
    {
     "name": "stdout",
     "output_type": "stream",
     "text": [
      "torch.Size([512, 50, 16])\n"
     ]
    }
   ],
   "source": [
    "class PatchEmbedding(nn.Module):\n",
    "    def __init__(self, in_channels: int = 1, patch_size: int = 4, num_patches: int = 49, embed_dim: int = 16, dropout: float = 0.001):\n",
    "        super().__init__()\n",
    "        self.patcher = nn.Sequential(\n",
    "            nn.Conv2d(\n",
    "                in_channels=in_channels,\n",
    "                out_channels=embed_dim,\n",
    "                kernel_size=patch_size,\n",
    "                stride=patch_size\n",
    "            ),\n",
    "            nn.Flatten(2)\n",
    "        )\n",
    "\n",
    "        self.cls_token = nn.Parameter(torch.randn(size=(1, in_channels, embed_dim)), requires_grad=True)\n",
    "        self.positional_embedding = nn.Parameter(torch.randn(size=(1, num_patches + 1, embed_dim)), requires_grad=True)\n",
    "        self.dropout = nn.Dropout(dropout)\n",
    "\n",
    "    def forward(self, x: torch.Tensor) -> torch.Tensor:\n",
    "        cls_tokens = self.cls_token.expand(x.shape[0], -1, -1)  # original dimensions\n",
    "\n",
    "        x = self.patcher(x).permute(0, 2, 1) \n",
    "        x = torch.cat((cls_tokens, x), dim=1)   # merge cls_token and patches\n",
    "        x += self.positional_embedding\n",
    "        x = self.dropout(x)\n",
    "\n",
    "        return x\n",
    "\n",
    "model = PatchEmbedding(IN_CHANNELS, PATCH_SIZE, NUM_PATCHES, EMBEDDING_DIM, DROPOUT)\n",
    "model.to(device)\n",
    "\n",
    "x = torch.randn(512, 1, IMAGE_SIZE, IMAGE_SIZE).to(device)\n",
    "print(model(x).shape)  # torch.Size([512, 50, 16]) - batch size, num_patches + one cls_token for image, embedding_dim"
   ]
  },
  {
   "cell_type": "markdown",
   "metadata": {},
   "source": [
    "- ViT"
   ]
  },
  {
   "cell_type": "code",
   "execution_count": 4,
   "metadata": {},
   "outputs": [
    {
     "name": "stdout",
     "output_type": "stream",
     "text": [
      "torch.Size([512, 10])\n"
     ]
    }
   ],
   "source": [
    "class ViT(nn.Module):\n",
    "    def __init__(self, num_classes: int = 10, img_size: int = 28, hidden_dim: int = 768, num_heads: int = 8, num_encoder_layers: int = 4, dropout: float = 0.001,\n",
    "                 patch_size: int = 4, num_patches: int = 49, embed_dim: int = 16, activation: nn.GELU = nn.GELU, in_channels: int = 1):\n",
    "        super().__init__()\n",
    "        self.embeddings_block = PatchEmbedding(in_channels, patch_size, num_patches, embed_dim, dropout)\n",
    "\n",
    "        encoder_layer = nn.TransformerEncoderLayer(\n",
    "            d_model=embed_dim,\n",
    "            nhead=num_heads,\n",
    "            dim_feedforward=hidden_dim,\n",
    "            activation=activation,\n",
    "            dropout=dropout,\n",
    "            batch_first=True,\n",
    "            norm_first=False\n",
    "        )\n",
    "        self.encoder_block = nn.TransformerEncoder(encoder_layer, num_layers=num_encoder_layers)\n",
    "\n",
    "        self.mlp_head = nn.Sequential(\n",
    "            nn.LayerNorm(normalized_shape=embed_dim),\n",
    "            nn.Linear(in_features=embed_dim, out_features=num_classes)\n",
    "        )\n",
    "\n",
    "    def forward(self, x: torch.Tensor) -> torch.Tensor:\n",
    "        x = self.embeddings_block(x)\n",
    "        x = self.encoder_block(x)\n",
    "        x = self.mlp_head(x[:, 0, :])  # extract cls_token\n",
    "\n",
    "        return x\n",
    "    \n",
    "model = ViT(NUM_CLASSES, IMAGE_SIZE, HIDDEN_DIM, NUM_HEADS, NUM_ENCODER_LAYERS, DROPOUT, PATCH_SIZE, NUM_PATCHES, EMBEDDING_DIM, ACTIVATION, IN_CHANNELS)\n",
    "model = model.to(device)\n",
    "x = torch.randn(512, 1, IMAGE_SIZE, IMAGE_SIZE).to(device)\n",
    "print(model(x).shape)  # torch.Size([512, 10]) - batch size, num_classes"
   ]
  }
 ],
 "metadata": {
  "kernelspec": {
   "display_name": "base",
   "language": "python",
   "name": "python3"
  },
  "language_info": {
   "codemirror_mode": {
    "name": "ipython",
    "version": 3
   },
   "file_extension": ".py",
   "mimetype": "text/x-python",
   "name": "python",
   "nbconvert_exporter": "python",
   "pygments_lexer": "ipython3",
   "version": "3.11.5"
  }
 },
 "nbformat": 4,
 "nbformat_minor": 2
}
